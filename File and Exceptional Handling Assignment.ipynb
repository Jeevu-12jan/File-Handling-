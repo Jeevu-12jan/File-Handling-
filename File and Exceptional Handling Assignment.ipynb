{
 "cells": [
  {
   "cell_type": "raw",
   "id": "7bfa7f6e-c381-4300-8b67-6188886c6b22",
   "metadata": {},
   "source": [
    "#Q.1 Discuss the scenarios where multithreading is preferable to multiprocessing and scenarios where\n",
    "multiprocessing is a better choice.\n",
    "\n",
    "Ans. Multithraeding is More efficient than multiprocessing for tasks within a single process.threads share a common address space, which is memory-efficient. Whereas, Multithreading  Increases computing power by utilizing multiple processors.Suitable for tasks that require heavy computational power.Examples of multithreading is downloading,managing multiple tasks on browser whereas multiproceesing is having the use oof i.e. Compuation, Server handling, multiple request simultaneously.\n"
   ]
  },
  {
   "cell_type": "raw",
   "id": "ffcbdd0a-ecf7-4e22-9749-68b30364c559",
   "metadata": {},
   "source": [
    "#Q.2 Describe what a process pool is and how it helps in managing multiple processes efficiently.\n",
    "\n",
    "Ans.A process pool is a programming pattern for automatically managing a pool of worker processes. . The Pool Class automatically distributes the tasks to the available processors using a FIFO scheduling manner.\n"
   ]
  },
  {
   "cell_type": "raw",
   "id": "2ca5fa18-9483-4d1f-85e3-576697034db6",
   "metadata": {},
   "source": [
    "#Q.3. Explain what multiprocessing is and why it is used in Python programs\n",
    "\n",
    "Ans.Multiprocessing refers to the ability of a system to support more than one processor at the same time.\n",
    "Applications in a multiprocessing system are broken to smaller routines that run independently.\n",
    "The operating system allocates these threads to the processors improving performance of the system.\n",
    "\n",
    "Why Multiprocessing:\n",
    "Improved Performance: By running multiple processes parallely , each on its own processor or core, multiprocessing can significantly reduce the time required for executing tasks.\n",
    "Avoiding GIL Limitations: Unlike threading, multiprocessing does not suffer from Python’s GIL issues because each process runs in its own Python interpreter.\n",
    "Better Resource Utilization: It allows for the effective utilization of multiple CPUs within a machine, which can lead to better handling of resource-intensive tasks.\n",
    "\n"
   ]
  },
  {
   "cell_type": "code",
   "execution_count": 1,
   "id": "fbd75d79-02eb-4507-bc16-ec1b3e2317db",
   "metadata": {},
   "outputs": [
    {
     "name": "stdout",
     "output_type": "stream",
     "text": [
      "Added: 0 | Current List: [0]\n",
      "Removed: 0 | Current List: []\n",
      "Added: 1 | Current List: [1]\n",
      "Removed: 1 | Current List: []\n",
      "List is empty, nothing to remove.\n",
      "Added: 2 | Current List: [2]\n",
      "Removed: 2 | Current List: []\n",
      "Added: 3 | Current List: [3]\n",
      "Removed: 3 | Current List: []\n",
      "Added: 4 | Current List: [4]\n",
      "Removed: 4 | Current List: []\n",
      "Added: 5 | Current List: [5]\n",
      "Removed: 5 | Current List: []\n",
      "Added: 6 | Current List: [6]\n",
      "Added: 7 | Current List: [6, 7]\n",
      "Removed: 6 | Current List: [7]\n",
      "Removed: 7 | Current List: []\n",
      "Added: 8 | Current List: [8]\n",
      "Added: 9 | Current List: [8, 9]\n",
      "Removed: 8 | Current List: [9]\n",
      "Final List: [9]\n"
     ]
    }
   ],
   "source": [
    "#Q.4 Write a Python program using multithreading where one thread adds numbers to a list, and another\n",
    "thread removes numbers from the list. Implement a mechanism to avoid race conditions using\n",
    "threading.Lock.\n",
    "\n",
    "import threading\n",
    "import time\n",
    "import random\n",
    "\n",
    "# Shared list and lock\n",
    "shared_list = []\n",
    "lock = threading.Lock()\n",
    "\n",
    "# Function to add numbers to the list\n",
    "def add_numbers():\n",
    "    for i in range(10):\n",
    "        time.sleep(random.uniform(0.1, 0.5))  # Simulate work\n",
    "        with lock:  # Acquire the lock\n",
    "            shared_list.append(i)\n",
    "            print(f\"Added: {i} | Current List: {shared_list}\")\n",
    "\n",
    "# Function to remove numbers from the list\n",
    "def remove_numbers():\n",
    "    for _ in range(10):\n",
    "        time.sleep(random.uniform(0.1, 0.5))  # Simulate work\n",
    "        with lock:  # Acquire the lock\n",
    "            if shared_list:\n",
    "                removed_value = shared_list.pop(0)\n",
    "                print(f\"Removed: {removed_value} | Current List: {shared_list}\")\n",
    "            else:\n",
    "                print(\"List is empty, nothing to remove.\")\n",
    "\n",
    "# Create threads\n",
    "add_thread = threading.Thread(target=add_numbers)\n",
    "remove_thread = threading.Thread(target=remove_numbers)\n",
    "\n",
    "# Start threads\n",
    "add_thread.start()\n",
    "remove_thread.start()\n",
    "\n",
    "# Wait for both threads to finish\n",
    "add_thread.join()\n",
    "remove_thread.join()\n",
    "\n",
    "print(\"Final List:\", shared_list)"
   ]
  },
  {
   "cell_type": "raw",
   "id": "a6fa827b-75d0-4e89-9874-d471e063152c",
   "metadata": {},
   "source": [
    "#Q.5 Describe the methods and tools available in Python for safely sharing data between threads and\n",
    "processes.\n",
    "Ans.\n",
    "For Threads: Use locks, semaphores, condition variables, events, and queues to manage access to shared resources and facilitate communication.\n",
    "For Processes: Use locks, managers, queues, pipes, and shared values/arrays to handle inter-process communication and synchronization.\n",
    "By choosing the appropriate synchronization tool, you can effectively manage shared data and prevent race conditions in both threaded and multiprocess applications in Python."
   ]
  },
  {
   "cell_type": "raw",
   "id": "eff234e4-78ef-4d91-8b81-9227127f404e",
   "metadata": {},
   "source": [
    "#Q.6  Discuss why it’s crucial to handle exceptions in concurrent programs and the techniques available for\n",
    "doing so.\n",
    "Ans. \n",
    "Exception handling is a crucial part of writing solid Python code. It helps developers prepare for and deal with potential errors that might pop up during program execution, ultimately improving the reliability and user experience of the program.\n",
    "#Techniques available for doing so:\n",
    "#1.By Try Except ry and Except Statement – Catching Exceptions\n",
    "Try and except statements are used to catch and handle exceptions in Python. Statements that can raise exceptions are wrapped inside the try block and the statements that handle the exception are written inside except block."
   ]
  },
  {
   "cell_type": "code",
   "execution_count": 4,
   "id": "a006a99a-a7b9-44c0-bbbe-6d50c20fef54",
   "metadata": {},
   "outputs": [
    {
     "name": "stdout",
     "output_type": "stream",
     "text": [
      "The following file was not created,please re run the code [Errno 2] No such file or directory: 'rohit.txt'\n"
     ]
    }
   ],
   "source": [
    "try:\n",
    "    f = open(\"rohit.txt\",\"r\")\n",
    "    f.read()\n",
    "except FileNotFoundError as e:\n",
    "    print(\"The following file was not created,please re run the code\",e)"
   ]
  },
  {
   "cell_type": "raw",
   "id": "890a7377-fdbd-4edf-8bee-a6ea09566696",
   "metadata": {},
   "source": [
    "#2. Try with Else Clause\n",
    "In Python, you can also use the else clause on the try-except block which must be present after all the except clauses. The code enters the else block only if the try clause does not raise an exception."
   ]
  },
  {
   "cell_type": "code",
   "execution_count": 5,
   "id": "07377ebe-6b0c-46b1-922b-8fefc6f1889f",
   "metadata": {},
   "outputs": [
    {
     "name": "stdout",
     "output_type": "stream",
     "text": [
      "-5.0\n",
      "a/b result in 0\n"
     ]
    }
   ],
   "source": [
    "def AbyB(a , b):\n",
    "    try:\n",
    "        c = ((a+b) / (a-b))\n",
    "    except ZeroDivisionError:\n",
    "        print (\"a/b result in 0\")\n",
    "    else:\n",
    "        print (c)\n",
    "AbyB(2.0, 3.0)\n",
    "AbyB(3.0, 3.0)"
   ]
  },
  {
   "cell_type": "code",
   "execution_count": 2,
   "id": "760e148f-d38e-48bd-83a3-bd0e6ad0a486",
   "metadata": {},
   "outputs": [
    {
     "name": "stdout",
     "output_type": "stream",
     "text": [
      "Factorial of 1 is 1\n",
      "Factorial of 2 is 2\n",
      "Factorial of 3 is 6\n",
      "Factorial of 4 is 24\n",
      "Factorial of 5 is 120\n",
      "Factorial of 6 is 720\n",
      "Factorial of 7 is 5040\n",
      "Factorial of 8 is 40320\n",
      "Factorial of 9 is 362880\n",
      "Factorial of 10 is 3628800\n"
     ]
    }
   ],
   "source": [
    "#Q.7  Create a program that uses a thread pool to calculate the factorial of numbers from 1 to 10 concurrently.\n",
    "#Use concurrent.futures.ThreadPoolExecutor to manage the threads\n",
    "\n",
    "#Ans.\n",
    "\n",
    "import concurrent.futures\n",
    "import math\n",
    "\n",
    "def calculate_factorial(n):\n",
    "    \"\"\"Calculate the factorial of a number.\"\"\"\n",
    "    return math.factorial(n)\n",
    "\n",
    "def main():\n",
    "    numbers = range(1, 11)  # Numbers from 1 to 10\n",
    "\n",
    "    # Using ThreadPoolExecutor to manage the threads\n",
    "    with concurrent.futures.ThreadPoolExecutor() as executor:\n",
    "        # Map the calculate_factorial function to the numbers\n",
    "        results = list(executor.map(calculate_factorial, numbers))\n",
    "\n",
    "    # Print the results\n",
    "    for number, factorial in zip(numbers, results):\n",
    "        print(f\"Factorial of {number} is {factorial}\")\n",
    "\n",
    "if __name__ == \"__main__\":\n",
    "    main()\n"
   ]
  },
  {
   "cell_type": "code",
   "execution_count": null,
   "id": "95c1bb83-cb88-46ae-a02f-3f2f4398f120",
   "metadata": {},
   "outputs": [
    {
     "name": "stdout",
     "output_type": "stream",
     "text": [
      "\n",
      "Using pool size: 2\n"
     ]
    }
   ],
   "source": [
    "#Q.8 Create a Python program that uses multiprocessing.Pool to compute the square of numbers from 1 to 10 in\n",
    "#parallel. Measure the time taken to perform this computation using a pool of different sizes (e.g., 2, 4, 8\n",
    "#processes).\n",
    "\n",
    "#Ans.\n",
    "\n",
    "import multiprocessing\n",
    "import time\n",
    "\n",
    "def compute_square(n):\n",
    "    \"\"\"Compute the square of a number.\"\"\"\n",
    "    return n * n\n",
    "\n",
    "def main():\n",
    "    numbers = range(1, 11)  # Numbers from 1 to 10\n",
    "    pool_sizes = [2, 4, 8]   # Different pool sizes to test\n",
    "\n",
    "    for size in pool_sizes:\n",
    "        print(f\"\\nUsing pool size: {size}\")\n",
    "        \n",
    "        # Create a Pool with the specified number of processes\n",
    "        with multiprocessing.Pool(processes=size) as pool:\n",
    "            start_time = time.time()  # Start timer\n",
    "            results = pool.map(compute_square, numbers)  # Compute squares\n",
    "            end_time = time.time()  # End timer\n",
    "            \n",
    "            # Print the results\n",
    "            for number, square in zip(numbers, results):\n",
    "                print(f\"Square of {number} is {square}\")\n",
    "\n",
    "            # Print the time taken\n",
    "            print(f\"Time taken with pool size {size}: {end_time - start_time:.4f} seconds\")\n",
    "\n",
    "if __name__ == \"__main__\":\n",
    "    main()"
   ]
  },
  {
   "cell_type": "code",
   "execution_count": null,
   "id": "7e9ed17f-c216-469c-ac0b-af456e6c9ab4",
   "metadata": {},
   "outputs": [],
   "source": []
  }
 ],
 "metadata": {
  "kernelspec": {
   "display_name": "Python 3 (ipykernel)",
   "language": "python",
   "name": "python3"
  },
  "language_info": {
   "codemirror_mode": {
    "name": "ipython",
    "version": 3
   },
   "file_extension": ".py",
   "mimetype": "text/x-python",
   "name": "python",
   "nbconvert_exporter": "python",
   "pygments_lexer": "ipython3",
   "version": "3.12.4"
  }
 },
 "nbformat": 4,
 "nbformat_minor": 5
}
